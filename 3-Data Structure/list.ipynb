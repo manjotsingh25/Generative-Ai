{
 "cells": [
  {
   "cell_type": "code",
   "execution_count": 2,
   "id": "7f94786b",
   "metadata": {},
   "outputs": [
    {
     "name": "stdout",
     "output_type": "stream",
     "text": [
      "<class 'list'>\n"
     ]
    }
   ],
   "source": [
    "lst=[]\n",
    "print (type(lst))"
   ]
  },
  {
   "cell_type": "code",
   "execution_count": 2,
   "id": "5a420dc4",
   "metadata": {},
   "outputs": [
    {
     "name": "stdout",
     "output_type": "stream",
     "text": [
      "['manjot', 'manjeet', 'manpreet', 'manmeet', 1, 2, 3, 4, 5]\n"
     ]
    }
   ],
   "source": [
    "names=[\"manjot\",\"manjeet\",\"manpreet\",\"manmeet\",1,2,3,4,5]\n",
    "print(names)"
   ]
  },
  {
   "cell_type": "code",
   "execution_count": null,
   "id": "cb36ce15",
   "metadata": {},
   "outputs": [
    {
     "name": "stdout",
     "output_type": "stream",
     "text": [
      "['manjot', 1, 2, 3, 4, 5, 3.14, True, False, None]\n"
     ]
    }
   ],
   "source": [
    "mixed_lists=[\"manjot\",1,2,3,4,5,3.14,True,False,None] \n",
    "print(mixed_lists)"
   ]
  },
  {
   "cell_type": "code",
   "execution_count": 3,
   "id": "523e979b",
   "metadata": {},
   "outputs": [],
   "source": [
    "fruits=[\"apple\",\"banana\",\"mango\",\"orange\"]"
   ]
  },
  {
   "cell_type": "code",
   "execution_count": 38,
   "id": "ac94bd8f",
   "metadata": {},
   "outputs": [
    {
     "name": "stdout",
     "output_type": "stream",
     "text": [
      "[0]\n"
     ]
    }
   ],
   "source": [
    "# Accessing the list elements\n",
    "print(fruits[0:1]) "
   ]
  },
  {
   "cell_type": "code",
   "execution_count": 6,
   "id": "faf86193",
   "metadata": {},
   "outputs": [
    {
     "name": "stdout",
     "output_type": "stream",
     "text": [
      "['apple', 'banana', 'kiwi', 'orange']\n"
     ]
    }
   ],
   "source": [
    "fruits=[\"apple\",\"banana\",\"mango\",\"orange\"]\n",
    "#modifying the list\n",
    "fruits[2] = \"kiwi\"\n",
    "print(fruits)"
   ]
  },
  {
   "cell_type": "code",
   "execution_count": 7,
   "id": "e2d5db15",
   "metadata": {},
   "outputs": [
    {
     "name": "stdout",
     "output_type": "stream",
     "text": [
      "['apple', 'banana', 'kiwi', 'orange', 'grape']\n"
     ]
    }
   ],
   "source": [
    "#lists methods\n",
    "# Adding an element to the end of the list\n",
    "fruits.append(\"grape\")\n",
    "print(fruits)"
   ]
  },
  {
   "cell_type": "code",
   "execution_count": 43,
   "id": "247d016b",
   "metadata": {},
   "outputs": [
    {
     "name": "stdout",
     "output_type": "stream",
     "text": [
      "['apple', 'banana', 'banana', 'banana', 'banana', 'kiwi', 'orange', 'grape']\n"
     ]
    }
   ],
   "source": [
    "fruits.insert(1,\"banana\")\n",
    "print(fruits)"
   ]
  },
  {
   "cell_type": "code",
   "execution_count": 46,
   "id": "dea88b59",
   "metadata": {},
   "outputs": [
    {
     "name": "stdout",
     "output_type": "stream",
     "text": [
      "['apple', 'banana', 'kiwi', 'orange', 'grape']\n"
     ]
    }
   ],
   "source": [
    "#removng the first occurance from the item\n",
    "fruits.remove(\"banana\")\n",
    "print(fruits)"
   ]
  }
 ],
 "metadata": {
  "kernelspec": {
   "display_name": "Python 3",
   "language": "python",
   "name": "python3"
  },
  "language_info": {
   "codemirror_mode": {
    "name": "ipython",
    "version": 3
   },
   "file_extension": ".py",
   "mimetype": "text/x-python",
   "name": "python",
   "nbconvert_exporter": "python",
   "pygments_lexer": "ipython3",
   "version": "3.13.2"
  }
 },
 "nbformat": 4,
 "nbformat_minor": 5
}
