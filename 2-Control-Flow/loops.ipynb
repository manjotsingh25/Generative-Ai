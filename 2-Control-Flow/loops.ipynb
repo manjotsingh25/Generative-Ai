{
 "cells": [
  {
   "cell_type": "code",
   "execution_count": 24,
   "id": "235cc8b8",
   "metadata": {},
   "outputs": [
    {
     "name": "stdout",
     "output_type": "stream",
     "text": [
      "0\n",
      "1\n",
      "2\n",
      "3\n",
      "4\n"
     ]
    }
   ],
   "source": [
    "#for loop\n",
    "for i in range(5):\n",
    "    print(i)"
   ]
  },
  {
   "cell_type": "code",
   "execution_count": 25,
   "id": "2da56986",
   "metadata": {},
   "outputs": [
    {
     "name": "stdout",
     "output_type": "stream",
     "text": [
      "1\n",
      "3\n",
      "5\n",
      "7\n",
      "9\n"
     ]
    }
   ],
   "source": [
    "for i in range(1,10,2):\n",
    "    print(i)"
   ]
  },
  {
   "cell_type": "code",
   "execution_count": 26,
   "id": "7f46df0e",
   "metadata": {},
   "outputs": [
    {
     "name": "stdout",
     "output_type": "stream",
     "text": [
      "m\n",
      "a\n",
      "n\n",
      "j\n",
      "o\n",
      "t\n",
      " \n",
      "s\n",
      "i\n",
      "n\n",
      "g\n",
      "h\n"
     ]
    }
   ],
   "source": [
    "#strings\n",
    "str =\"manjot singh\"\n",
    "for i in str:\n",
    "    print (i)"
   ]
  },
  {
   "cell_type": "code",
   "execution_count": 27,
   "id": "2e7b990e",
   "metadata": {},
   "outputs": [
    {
     "name": "stdout",
     "output_type": "stream",
     "text": [
      "0\n",
      "1\n",
      "2\n",
      "3\n",
      "4\n"
     ]
    }
   ],
   "source": [
    "#while loop \n",
    "#the while loop continues to execute as long as the condition is true \n",
    "count = 0\n",
    "while count <5:\n",
    "    print(count)\n",
    "    count = count + 1\n"
   ]
  },
  {
   "cell_type": "code",
   "execution_count": 28,
   "id": "5f4991c0",
   "metadata": {},
   "outputs": [
    {
     "name": "stdout",
     "output_type": "stream",
     "text": [
      "0\n",
      "1\n",
      "2\n",
      "3\n",
      "4\n"
     ]
    }
   ],
   "source": [
    "#loop control statements\n",
    "#break statement\n",
    "#The break statement is used to exit a loop prematurely.\n",
    "#break statement \n",
    "for i in range(10):\n",
    "    if i == 5:\n",
    "        break\n",
    "    print(i)"
   ]
  },
  {
   "cell_type": "code",
   "execution_count": 29,
   "id": "43abe032",
   "metadata": {},
   "outputs": [
    {
     "name": "stdout",
     "output_type": "stream",
     "text": [
      "1\n",
      "3\n",
      "5\n",
      "7\n",
      "9\n"
     ]
    }
   ],
   "source": [
    "#continue statement\n",
    "#The continue statement is used to skip the current iteration of a loop and continue with the next iteration.\n",
    "for i in range(10):\n",
    "    if i % 2 == 0:\n",
    "        continue\n",
    "    print(i) "
   ]
  },
  {
   "cell_type": "code",
   "execution_count": 30,
   "id": "96e98bfb",
   "metadata": {},
   "outputs": [
    {
     "name": "stdout",
     "output_type": "stream",
     "text": [
      "0\n",
      "1\n",
      "2\n",
      "3\n",
      "4\n"
     ]
    }
   ],
   "source": [
    "#pass statement\n",
    "#The pass statement is a null operation; it does nothing when executed.\n",
    "for i in range(5):\n",
    "    if i == 3:\n",
    "        pass\n",
    "    print(i)"
   ]
  },
  {
   "cell_type": "code",
   "execution_count": 31,
   "id": "32a18c6b",
   "metadata": {},
   "outputs": [
    {
     "name": "stdout",
     "output_type": "stream",
     "text": [
      "i: 0 and j: 0\n",
      "i: 0 and j: 1\n",
      "i: 1 and j: 0\n",
      "i: 1 and j: 1\n",
      "i: 2 and j: 0\n",
      "i: 2 and j: 1\n"
     ]
    }
   ],
   "source": [
    "# nested loops\n",
    "# a loops inside a loops\n",
    "for i in range(3):\n",
    "    for j in range(2):\n",
    "        print(f\"i: {i} and j: {j}\")"
   ]
  },
  {
   "cell_type": "code",
   "execution_count": 32,
   "id": "2ea25b83",
   "metadata": {},
   "outputs": [
    {
     "name": "stdout",
     "output_type": "stream",
     "text": [
      "Sum of first 10 natural number:  1\n",
      "Sum of first 10 natural number:  3\n",
      "Sum of first 10 natural number:  6\n",
      "Sum of first 10 natural number:  10\n",
      "Sum of first 10 natural number:  15\n",
      "Sum of first 10 natural number:  21\n",
      "Sum of first 10 natural number:  28\n",
      "Sum of first 10 natural number:  36\n",
      "Sum of first 10 natural number:  45\n",
      "Sum of first 10 natural number:  55\n"
     ]
    }
   ],
   "source": [
    "#Example- calculating the sum of first N natural numbers using a while and for loop\n",
    "# while loop\n",
    "n=10\n",
    "sum=0\n",
    "count=1\n",
    "while count<=n:\n",
    "    sum=sum+count\n",
    "    count=count+1  \n",
    "    print(\"Sum of first 10 natural number: \", sum)"
   ]
  },
  {
   "cell_type": "code",
   "execution_count": 33,
   "id": "d0111648",
   "metadata": {},
   "outputs": [
    {
     "name": "stdout",
     "output_type": "stream",
     "text": [
      "55\n"
     ]
    }
   ],
   "source": [
    "#for loop \n",
    "n=10\n",
    "sum=0\n",
    "count=1\n",
    "for i in range(11):\n",
    "    sum= sum+i\n",
    "print(sum)"
   ]
  }
 ],
 "metadata": {
  "kernelspec": {
   "display_name": "Python 3",
   "language": "python",
   "name": "python3"
  },
  "language_info": {
   "codemirror_mode": {
    "name": "ipython",
    "version": 3
   },
   "file_extension": ".py",
   "mimetype": "text/x-python",
   "name": "python",
   "nbconvert_exporter": "python",
   "pygments_lexer": "ipython3",
   "version": "3.13.2"
  }
 },
 "nbformat": 4,
 "nbformat_minor": 5
}
