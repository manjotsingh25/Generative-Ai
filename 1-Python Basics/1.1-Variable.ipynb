{
 "cells": [
  {
   "cell_type": "code",
   "execution_count": 1,
   "id": "dd0fa427",
   "metadata": {},
   "outputs": [],
   "source": [
    "a=100"
   ]
  },
  {
   "cell_type": "code",
   "execution_count": 5,
   "id": "37fe5944",
   "metadata": {},
   "outputs": [
    {
     "name": "stdout",
     "output_type": "stream",
     "text": [
      "age: 32\n",
      "height: 6.0\n",
      "name: krish\n"
     ]
    }
   ],
   "source": [
    "#Declaring and assigning variables\n",
    "age=32\n",
    "height=6.0\n",
    "name=\"krish\"\n",
    "is_student=True\n",
    "\n",
    "#printing the variables\n",
    "print(\"age:\",age)\n",
    "print(\"height:\",height)\n",
    "print(\"name:\",name)"
   ]
  },
  {
   "cell_type": "code",
   "execution_count": 7,
   "id": "a46386f4",
   "metadata": {},
   "outputs": [],
   "source": [
    "#Naming Conventions\n",
    "#they must start with a letter or an '_' and contain letter,number and underscore\n",
    "\n",
    "#valid variable names\n",
    "first_name=\"manjot\"\n",
    "last_name=\"singh\""
   ]
  },
  {
   "cell_type": "code",
   "execution_count": 14,
   "id": "0522350d",
   "metadata": {},
   "outputs": [],
   "source": [
    "#invalid variable names \n",
    "#2age= 43\n",
    "#@name=\"manjot\"\n",
    "#first-name\"manjot\""
   ]
  },
  {
   "cell_type": "code",
   "execution_count": 18,
   "id": "6f769c8b",
   "metadata": {},
   "outputs": [],
   "source": [
    "#case senstive\n",
    "name=\"manjot\"\n",
    "Name=\"singh\""
   ]
  },
  {
   "cell_type": "code",
   "execution_count": 23,
   "id": "10ccaaa9",
   "metadata": {},
   "outputs": [],
   "source": [
    "#understanding variable types\n",
    "age=30 #int\n",
    "height=6.1 #float\n",
    "name=\"manjot\" #str"
   ]
  },
  {
   "cell_type": "code",
   "execution_count": 22,
   "id": "f8e5915b",
   "metadata": {},
   "outputs": [
    {
     "data": {
      "text/plain": [
       "float"
      ]
     },
     "execution_count": 22,
     "metadata": {},
     "output_type": "execute_result"
    }
   ],
   "source": [
    "#type checking and conversion\n",
    "type(height)"
   ]
  },
  {
   "cell_type": "code",
   "execution_count": 4,
   "id": "94bafe41",
   "metadata": {},
   "outputs": [
    {
     "name": "stdout",
     "output_type": "stream",
     "text": [
      "<class 'int'>\n",
      "32\n",
      "<class 'str'>\n"
     ]
    }
   ],
   "source": [
    "age=32\n",
    "print(type(age))\n",
    "#type conversion\n",
    "age_str=str(age)\n",
    "print(age_str)\n",
    "print(type(age_str))"
   ]
  },
  {
   "cell_type": "code",
   "execution_count": 6,
   "id": "633d19d9",
   "metadata": {},
   "outputs": [
    {
     "name": "stdout",
     "output_type": "stream",
     "text": [
      "<class 'int'>\n"
     ]
    }
   ],
   "source": [
    "age='25'\n",
    "print(type(int(age)))"
   ]
  },
  {
   "cell_type": "code",
   "execution_count": 8,
   "id": "e12512ec",
   "metadata": {},
   "outputs": [
    {
     "name": "stdout",
     "output_type": "stream",
     "text": [
      "10 <class 'int'>\n",
      "manjot <class 'str'>\n",
      "3.14 <class 'float'>\n"
     ]
    }
   ],
   "source": [
    "#Dynamic typing\n",
    "#python allow the type of variable to change as the program execute \n",
    "var=10\n",
    "print(var,type(var))\n",
    "\n",
    "var=\"manjot\"\n",
    "print(var,type(var))\n",
    "\n",
    "var=3.14\n",
    "print(var, type(var))"
   ]
  },
  {
   "cell_type": "code",
   "execution_count": 14,
   "id": "4fb9fb0d",
   "metadata": {},
   "outputs": [
    {
     "name": "stdout",
     "output_type": "stream",
     "text": [
      "19 <class 'int'>\n"
     ]
    }
   ],
   "source": [
    "#input \n",
    "age=int(input(\"what is your age\"))\n",
    "print(age ,type(age))"
   ]
  },
  {
   "cell_type": "code",
   "execution_count": 16,
   "id": "f67d703a",
   "metadata": {},
   "outputs": [
    {
     "name": "stdout",
     "output_type": "stream",
     "text": [
      "sum 25.0\n",
      "difference -5.0\n",
      "product 150.0\n",
      "quotient 0.6666666666666666\n"
     ]
    }
   ],
   "source": [
    "#simple calculator\n",
    "\n",
    "num1=float(input(\"Enter a number\"))\n",
    "num2=float(input(\"Enter a number\"))\n",
    "\n",
    "sum = num1 + num2\n",
    "difference = num1 - num2\n",
    "product = num1 * num2\n",
    "quotient = num1 /num2\n",
    "\n",
    "print(\"sum\",sum)\n",
    "print(\"difference\",difference)\n",
    "print(\"product\",product)\n",
    "print(\"quotient\",quotient)"
   ]
  }
 ],
 "metadata": {
  "kernelspec": {
   "display_name": "myenv",
   "language": "python",
   "name": "python3"
  },
  "language_info": {
   "codemirror_mode": {
    "name": "ipython",
    "version": 3
   },
   "file_extension": ".py",
   "mimetype": "text/x-python",
   "name": "python",
   "nbconvert_exporter": "python",
   "pygments_lexer": "ipython3",
   "version": "3.13.1"
  }
 },
 "nbformat": 4,
 "nbformat_minor": 5
}
