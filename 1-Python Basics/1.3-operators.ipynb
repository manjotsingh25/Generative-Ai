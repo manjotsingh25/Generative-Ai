{
 "cells": [
  {
   "cell_type": "code",
   "execution_count": null,
   "id": "5b739dc2",
   "metadata": {},
   "outputs": [
    {
     "name": "stdout",
     "output_type": "stream",
     "text": [
      "15\n",
      "5\n",
      "50\n",
      "2\n",
      "2\n",
      "0\n",
      "100000\n"
     ]
    }
   ],
   "source": [
    "#Arithmetic Operations\n",
    "a=10\n",
    "b=5\n",
    "add_result = a+b #Addition\n",
    "sub_result = a-b #Subraction\n",
    "multiply_result = a*b #Multiplication\n",
    "division_result = a/b #Division\n",
    "floor_division_result  = a//b #floor division\n",
    "modulus_result = a%b #modulus\n",
    "exponent_result = a**b #exponent\n",
    " \n",
    "print(add_result)\n",
    "print(sub_result)\n",
    "print(multiply_result)\n",
    "print(division_result) \n",
    "print(floor_division_result)\n",
    "print(modulus_result)\n",
    "print(exponent_result)"
   ]
  },
  {
   "cell_type": "markdown",
   "id": "8cc685d5",
   "metadata": {},
   "source": [
    "#### COMPARISON OPERATORS"
   ]
  },
  {
   "cell_type": "code",
   "execution_count": null,
   "id": "a19431dd",
   "metadata": {},
   "outputs": [
    {
     "name": "stdout",
     "output_type": "stream",
     "text": [
      "True\n"
     ]
    }
   ],
   "source": [
    "#comparison operators\n",
    "# Equal to ==\n",
    "a = 10\n",
    "b = 10\n",
    "result = (a==b)\n",
    "print(result)\n"
   ]
  },
  {
   "cell_type": "code",
   "execution_count": 3,
   "id": "1ee74e92",
   "metadata": {},
   "outputs": [
    {
     "data": {
      "text/plain": [
       "True"
      ]
     },
     "execution_count": 3,
     "metadata": {},
     "output_type": "execute_result"
    }
   ],
   "source": [
    "str1 =\"manjot\"\n",
    "str2 =\"manjot\"\n",
    "str1==str2"
   ]
  },
  {
   "cell_type": "code",
   "execution_count": 7,
   "metadata": {},
   "outputs": [
    {
     "data": {
      "text/plain": [
       "True"
      ]
     },
     "execution_count": 7,
     "metadata": {},
     "output_type": "execute_result"
    }
   ],
   "source": [
    "#Not Equals to \n",
    "str3 = \"manjot\"\n",
    "str4 = \"Manjot\"\n",
    "str3!=str4"
   ]
  },
  {
   "cell_type": "code",
   "execution_count": null,
   "id": "ebc0fc4b",
   "metadata": {},
   "outputs": [
    {
     "data": {
      "text/plain": [
       "False"
      ]
     },
     "execution_count": 8,
     "metadata": {},
     "output_type": "execute_result"
    }
   ],
   "source": [
    "#Greater than >\n",
    "number1 = 55\n",
    "number2 = 65\n",
    "number1>number2\n"
   ]
  },
  {
   "cell_type": "code",
   "execution_count": 9,
   "id": "4303e514",
   "metadata": {},
   "outputs": [
    {
     "data": {
      "text/plain": [
       "True"
      ]
     },
     "execution_count": 9,
     "metadata": {},
     "output_type": "execute_result"
    }
   ],
   "source": [
    "#less than <\n",
    "number3 = 55\n",
    "number4 = 75\n",
    "number3<number4"
   ]
  },
  {
   "cell_type": "code",
   "execution_count": 12,
   "id": "fbf3a9d1",
   "metadata": {},
   "outputs": [
    {
     "data": {
      "text/plain": [
       "True"
      ]
     },
     "execution_count": 12,
     "metadata": {},
     "output_type": "execute_result"
    }
   ],
   "source": [
    "#Greater than or equal to \n",
    "number1 = 65\n",
    "number2 = 55\n",
    "number1>=number2"
   ]
  },
  {
   "cell_type": "code",
   "execution_count": 14,
   "id": "bdfba230",
   "metadata": {},
   "outputs": [
    {
     "data": {
      "text/plain": [
       "True"
      ]
     },
     "execution_count": 14,
     "metadata": {},
     "output_type": "execute_result"
    }
   ],
   "source": [
    "#Less than equal to\n",
    "number1 = 45\n",
    "number2 = 45\n",
    "number1 <= number2"
   ]
  },
  {
   "cell_type": "markdown",
   "id": "aaa505a3",
   "metadata": {},
   "source": [
    "#### LOGICAL OPERATORS"
   ]
  },
  {
   "cell_type": "code",
   "execution_count": 16,
   "id": "fca988aa",
   "metadata": {},
   "outputs": [
    {
     "name": "stdout",
     "output_type": "stream",
     "text": [
      "True\n"
     ]
    }
   ],
   "source": [
    "#AND\n",
    "X = True\n",
    "Y = True\n",
    "result = X and Y\n",
    "print(result)"
   ]
  },
  {
   "cell_type": "code",
   "execution_count": 19,
   "id": "9cf6b4e3",
   "metadata": {},
   "outputs": [
    {
     "name": "stdout",
     "output_type": "stream",
     "text": [
      "False\n"
     ]
    }
   ],
   "source": [
    "#OR\n",
    "X = False\n",
    "Y = False\n",
    "result = X or Y\n",
    "print(result)"
   ]
  },
  {
   "cell_type": "code",
   "execution_count": 20,
   "id": "d5f62bb4",
   "metadata": {},
   "outputs": [
    {
     "name": "stdout",
     "output_type": "stream",
     "text": [
      "False\n"
     ]
    }
   ],
   "source": [
    "#NOT\n",
    "x = True\n",
    "print(not x)\n"
   ]
  },
  {
   "cell_type": "code",
   "execution_count": 21,
   "id": "813d9c68",
   "metadata": {},
   "outputs": [
    {
     "name": "stdout",
     "output_type": "stream",
     "text": [
      "addition 20.0\n",
      "subraction 0.0\n",
      "multiplication 100.0\n",
      "divide 1.0\n",
      "floor_division 1.0\n",
      "modulus 0.0\n",
      "exponent 10000000000.0\n"
     ]
    }
   ],
   "source": [
    "#simple calculator\n",
    "\n",
    "num1=float(input(\"Enter a number\"))\n",
    "num2=float(input(\"Enter a number\"))\n",
    "\n",
    "addition = num1 + num2\n",
    "subraction = num1 - num2\n",
    "multiplication = num1 * num2\n",
    "divide = num1 /num2\n",
    "floor_division = num1 // num2\n",
    "modulus = num1 % num2\n",
    "exponent = num1 ** num2\n",
    "\n",
    "print(\"addition\",addition)\n",
    "print(\"subraction\",subraction)\n",
    "print(\"multiplication\",multiplication)\n",
    "print(\"divide\",divide)\n",
    "print(\"floor_division\",floor_division)\n",
    "print(\"modulus\",modulus)\n",
    "print(\"exponent\",exponent)"
   ]
  }
 ],
 "metadata": {
  "kernelspec": {
   "display_name": "myenv",
   "language": "python",
   "name": "python3"
  },
  "language_info": {
   "codemirror_mode": {
    "name": "ipython",
    "version": 3
   },
   "file_extension": ".py",
   "mimetype": "text/x-python",
   "name": "python",
   "nbconvert_exporter": "python",
   "pygments_lexer": "ipython3",
   "version": "3.13.1"
  }
 },
 "nbformat": 4,
 "nbformat_minor": 5
}
